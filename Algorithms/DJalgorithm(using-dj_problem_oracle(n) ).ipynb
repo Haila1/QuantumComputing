{
 "cells": [
  {
   "cell_type": "code",
   "execution_count": 27,
   "id": "c996f1ab-d13b-447f-b1ba-39f3d4b49075",
   "metadata": {
    "tags": []
   },
   "outputs": [],
   "source": [
    "# Importing standard Qiskit libraries\n",
    "from qiskit import QuantumCircuit, transpile, execute, Aer\n",
    "from qiskit.tools.jupyter import *\n",
    "from qiskit.visualization import *\n",
    "from ibm_quantum_widgets import *\n",
    "import numpy as np\n",
    "\n",
    "# Importing standard Qiskit libraries\n",
    "from qiskit import qiskit\n",
    "from qiskit import *\n",
    "from qiskit import QuantumCircuit, transpile, Aer, IBMQ, BasicAer\n",
    "from qiskit.tools.jupyter import *\n",
    "from qiskit.visualization import *\n",
    "from qiskit.visualization import plot_histogram\n",
    "from qiskit.providers.aer import QasmSimulator\n",
    "from math import *\n",
    "from qiskit.quantum_info import *\n",
    "import random\n",
    "# qiskit-ibmq-provider has been deprecated.\n",
    "# Please see the Migration Guides in https://ibm.biz/provider_migration_guide for more detail.\n",
    "from qiskit_ibm_runtime import QiskitRuntimeService, Sampler, Estimator, Session, Options\n",
    "\n",
    "# Loading your IBM Quantum account(s)\n",
    "service = QiskitRuntimeService(channel=\"ibm_quantum\")\n",
    "\n",
    "# Invoke a primitive. For more details see https://qiskit.org/documentation/partners/qiskit_ibm_runtime/tutorials.html\n",
    "# result = Sampler(\"ibmq_qasm_simulator\").run(circuits).result()"
   ]
  },
  {
   "cell_type": "code",
   "execution_count": 45,
   "id": "7a076cd9-49d6-46f4-a1cf-f0f466a31a25",
   "metadata": {
    "tags": []
   },
   "outputs": [
    {
     "name": "stdout",
     "output_type": "stream",
     "text": [
      "balanced \n",
      "0100\n"
     ]
    }
   ],
   "source": [
    "\n",
    "from qiskit_textbook.problems import dj_problem_oracle\n",
    "#n = int(input('enter number of qubits :  ')) \n",
    "n = 4\n",
    "qc = QuantumCircuit(n+1,n)\n",
    "\n",
    "oracle = dj_problem_oracle(n) \n",
    "\n",
    "def DJ(oracle):\n",
    "    qc.x(n)\n",
    "    qc.h(range(0,n+1))\n",
    "\n",
    "    qc.append(oracle,range(n+1))\n",
    "\n",
    "    qc.h(range(0,n))   \n",
    "\n",
    "DJ(oracle)\n",
    "qc.measure(range(0,n),range(0,n))\n",
    "job = execute(qc, Aer.get_backend('qasm_simulator'))\n",
    "output = job.result().get_counts()\n",
    "out = list(output)[0]\n",
    "\n",
    "if len(output) == 1:\n",
    "    print(\"balanced \")\n",
    "else:\n",
    "    print(\"constant\")\n",
    "    \n",
    "        \n",
    "print(out)"
   ]
  },
  {
   "cell_type": "code",
   "execution_count": 37,
   "id": "fe0039c5-ed5b-4c34-abd7-a713ad6d45dc",
   "metadata": {
    "tags": []
   },
   "outputs": [
    {
     "data": {
      "image/png": "[encoded data removed]",
      "text/plain": [
       "<Figure size 872.774x535.111 with 1 Axes>"
      ]
     },
     "execution_count": 37,
     "metadata": {},
     "output_type": "execute_result"
    }
   ],
   "source": [
    "qc.draw('mpl')"
   ]
  },
  {
   "cell_type": "code",
   "execution_count": null,
   "id": "1ca231d9-01b7-41b1-894a-93d37c0fc14e",
   "metadata": {},
   "outputs": [],
   "source": []
  }
 ],
 "metadata": {
  "kernelspec": {
   "display_name": "Python 3 (ipykernel)",
   "language": "python",
   "name": "python3"
  },
  "language_info": {
   "codemirror_mode": {
    "name": "ipython",
    "version": 3
   },
   "file_extension": ".py",
   "mimetype": "text/x-python",
   "name": "python",
   "nbconvert_exporter": "python",
   "pygments_lexer": "ipython3",
   "version": "3.10.8"
  },
  "widgets": {
   "application/vnd.jupyter.widget-state+json": {
    "state": {
     "0b510e991cb841f6b0280bda9fe25055": {
      "model_module": "@jupyter-widgets/controls",
      "model_module_version": "2.0.0",
      "model_name": "ButtonStyleModel",
      "state": {
       "font_family": null,
       "font_size": null,
       "font_style": null,
       "font_variant": null,
       "font_weight": null,
       "text_color": null,
       "text_decoration": null
      }
     },
     "110ad8baf8a34254963a15d01939cfd6": {
      "model_module": "@jupyter-widgets/base",
      "model_module_version": "2.0.0",
      "model_name": "LayoutModel",
      "state": {
       "width": "190px"
      }
     },
     "1242bfb29e594adabefa9ba7c7a32a64": {
      "model_module": "@jupyter-widgets/base",
      "model_module_version": "2.0.0",
      "model_name": "LayoutModel",
      "state": {
       "grid_area": "right",
       "padding": "0px 0px 0px 0px",
       "width": "70px"
      }
     },
     "126e6c1653644468a6198a90dffa8521": {
      "model_module": "@jupyter-widgets/controls",
      "model_module_version": "2.0.0",
      "model_name": "GridBoxModel",
      "state": {
       "children": [
        "IPY_MODEL_d0e17fecc98c481eb4cb8447a2fa8953"
       ],
       "layout": "IPY_MODEL_85c5cb018b064fb0ba2f6b6d70c5e72f"
      }
     },
     "157ea7253aba49648c38e2f48647bff3": {
      "model_module": "@jupyter-widgets/controls",
      "model_module_version": "2.0.0",
      "model_name": "HTMLModel",
      "state": {
       "layout": "IPY_MODEL_110ad8baf8a34254963a15d01939cfd6",
       "style": "IPY_MODEL_567e746194ba49d0933ba15abcb83d9f",
       "value": "<h5>Job ID</h5>"
      }
     },
     "1a2b21c979954fbbb60598cfb030fb08": {
      "model_module": "@jupyter-widgets/base",
      "model_module_version": "2.0.0",
      "model_name": "LayoutModel",
      "state": {
       "margin": "0px 0px 0px 37px",
       "width": "600px"
      }
     },
     "1cf529552a8c45a59c307adf1bff7531": {
      "model_module": "@jupyter-widgets/controls",
      "model_module_version": "2.0.0",
      "model_name": "HTMLStyleModel",
      "state": {
       "description_width": "",
       "font_size": null,
       "text_color": null
      }
     },
     "2d9f0369944041a890560bb6e47b6b0a": {
      "model_module": "@jupyter-widgets/controls",
      "model_module_version": "2.0.0",
      "model_name": "HTMLModel",
      "state": {
       "layout": "IPY_MODEL_477cc0e091524e18aa158b1bb6bb8c2b",
       "style": "IPY_MODEL_9f529f370cc341fd994a30d340dce935",
       "value": "<h5>Status</h5>"
      }
     },
     "383e19988b3148488eb51989d5efb2ec": {
      "model_module": "@jupyter-widgets/base",
      "model_module_version": "2.0.0",
      "model_name": "LayoutModel",
      "state": {}
     },
     "38cf09d3a910483eba968a17b7e1bd6e": {
      "model_module": "@jupyter-widgets/controls",
      "model_module_version": "2.0.0",
      "model_name": "HTMLModel",
      "state": {
       "layout": "IPY_MODEL_3c5cbc30aca14d7b89010afd63f11286",
       "style": "IPY_MODEL_9c2be17cead8481d95d45a4aa2e18cd7",
       "value": "<h5>Backend</h5>"
      }
     },
     "3c5cbc30aca14d7b89010afd63f11286": {
      "model_module": "@jupyter-widgets/base",
      "model_module_version": "2.0.0",
      "model_name": "LayoutModel",
      "state": {
       "width": "145px"
      }
     },
     "477cc0e091524e18aa158b1bb6bb8c2b": {
      "model_module": "@jupyter-widgets/base",
      "model_module_version": "2.0.0",
      "model_name": "LayoutModel",
      "state": {
       "width": "95px"
      }
     },
     "48ab2becfacf485ba0efeb298d9f5e6a": {
      "model_module": "@jupyter-widgets/controls",
      "model_module_version": "2.0.0",
      "model_name": "HTMLStyleModel",
      "state": {
       "description_width": "",
       "font_size": null,
       "text_color": null
      }
     },
     "4ec9662445c646929a261f00acf8489a": {
      "model_module": "@jupyter-widgets/controls",
      "model_module_version": "2.0.0",
      "model_name": "HTMLModel",
      "state": {
       "layout": "IPY_MODEL_383e19988b3148488eb51989d5efb2ec",
       "style": "IPY_MODEL_572b8fbf7371445bbbd452c9c81be8f6",
       "value": "<h5>Message</h5>"
      }
     },
     "567e746194ba49d0933ba15abcb83d9f": {
      "model_module": "@jupyter-widgets/controls",
      "model_module_version": "2.0.0",
      "model_name": "HTMLStyleModel",
      "state": {
       "description_width": "",
       "font_size": null,
       "text_color": null
      }
     },
     "572b8fbf7371445bbbd452c9c81be8f6": {
      "model_module": "@jupyter-widgets/controls",
      "model_module_version": "2.0.0",
      "model_name": "HTMLStyleModel",
      "state": {
       "description_width": "",
       "font_size": null,
       "text_color": null
      }
     },
     "5c68e1da70f14744b9eb92c179c009de": {
      "model_module": "@jupyter-widgets/controls",
      "model_module_version": "2.0.0",
      "model_name": "HTMLModel",
      "state": {
       "layout": "IPY_MODEL_61bd008ae5dd4bf0a07489a67028b5d8",
       "style": "IPY_MODEL_1cf529552a8c45a59c307adf1bff7531",
       "value": "<h5>Queue</h5>"
      }
     },
     "61bd008ae5dd4bf0a07489a67028b5d8": {
      "model_module": "@jupyter-widgets/base",
      "model_module_version": "2.0.0",
      "model_name": "LayoutModel",
      "state": {
       "width": "70px"
      }
     },
     "85c5cb018b064fb0ba2f6b6d70c5e72f": {
      "model_module": "@jupyter-widgets/base",
      "model_module_version": "2.0.0",
      "model_name": "LayoutModel",
      "state": {
       "grid_template_areas": "\n                                       \". . . . right \"\n                                        ",
       "grid_template_columns": "20% 20% 20% 20% 20%",
       "width": "100%"
      }
     },
     "9c2be17cead8481d95d45a4aa2e18cd7": {
      "model_module": "@jupyter-widgets/controls",
      "model_module_version": "2.0.0",
      "model_name": "HTMLStyleModel",
      "state": {
       "description_width": "",
       "font_size": null,
       "text_color": null
      }
     },
     "9f529f370cc341fd994a30d340dce935": {
      "model_module": "@jupyter-widgets/controls",
      "model_module_version": "2.0.0",
      "model_name": "HTMLStyleModel",
      "state": {
       "description_width": "",
       "font_size": null,
       "text_color": null
      }
     },
     "bd3143be402a40b4ac901624f93b2bd3": {
      "model_module": "@jupyter-widgets/base",
      "model_module_version": "2.0.0",
      "model_name": "LayoutModel",
      "state": {
       "margin": "0px 0px 10px 0px"
      }
     },
     "c95920079a2e4211b65b3a2f3b731c3e": {
      "model_module": "@jupyter-widgets/controls",
      "model_module_version": "2.0.0",
      "model_name": "HBoxModel",
      "state": {
       "children": [
        "IPY_MODEL_157ea7253aba49648c38e2f48647bff3",
        "IPY_MODEL_38cf09d3a910483eba968a17b7e1bd6e",
        "IPY_MODEL_2d9f0369944041a890560bb6e47b6b0a",
        "IPY_MODEL_5c68e1da70f14744b9eb92c179c009de",
        "IPY_MODEL_4ec9662445c646929a261f00acf8489a"
       ],
       "layout": "IPY_MODEL_1a2b21c979954fbbb60598cfb030fb08"
      }
     },
     "d0e17fecc98c481eb4cb8447a2fa8953": {
      "model_module": "@jupyter-widgets/controls",
      "model_module_version": "2.0.0",
      "model_name": "ButtonModel",
      "state": {
       "button_style": "primary",
       "description": "Clear",
       "layout": "IPY_MODEL_1242bfb29e594adabefa9ba7c7a32a64",
       "style": "IPY_MODEL_0b510e991cb841f6b0280bda9fe25055",
       "tooltip": null
      }
     },
     "f5081ee09e7c40699528dffc8b82471c": {
      "model_module": "@jupyter-widgets/controls",
      "model_module_version": "2.0.0",
      "model_name": "HTMLModel",
      "state": {
       "layout": "IPY_MODEL_bd3143be402a40b4ac901624f93b2bd3",
       "style": "IPY_MODEL_48ab2becfacf485ba0efeb298d9f5e6a",
       "value": "<p style='font-family: IBM Plex Sans, Arial, Helvetica, sans-serif; font-size: 20px; font-weight: medium;'>Circuit Properties</p>"
      }
     }
    },
    "version_major": 2,
    "version_minor": 0
   }
  }
 },
 "nbformat": 4,
 "nbformat_minor": 5
}
